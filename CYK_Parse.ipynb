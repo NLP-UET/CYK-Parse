{
  "cells": [
    {
      "cell_type": "markdown",
      "metadata": {
        "id": "xPjn_rVtwuWB"
      },
      "source": [
        "# CYK Algorithm\n"
      ]
    },
    {
      "cell_type": "code",
      "execution_count": 1,
      "metadata": {
        "id": "XNKnz5rTwuWE"
      },
      "outputs": [],
      "source": [
        "nonterminals = {'S', 'NP', 'VP', 'PP', 'P', 'V'}\n",
        "rules = {('S', 'NP', 'VP') : 1.0,\n",
        "         ('PP', 'P', 'NP') : 1.0,\n",
        "         ('VP', 'V', 'NP') : 0.7,\n",
        "         ('VP', 'VP', 'PP') : 0.3,\n",
        "         ('P', 'with') : 1.0,\n",
        "         ('V', 'saw') : 1.0,\n",
        "         ('NP', 'NP', 'PP'): 0.4,\n",
        "         ('NP', 'astronomers'): 0.1,\n",
        "         ('NP', 'ears'): 0.18,\n",
        "         ('NP', 'saw'): 0.04,\n",
        "         ('NP', 'stars'): 0.18,\n",
        "         ('NP', 'telescopes'): 0.1,}\n",
        "raw_sentence = 'astronomers saw stars with ears'"
      ]
    },
    {
      "cell_type": "code",
      "execution_count": 2,
      "metadata": {
        "id": "Qnfhrt3VwuWG"
      },
      "outputs": [],
      "source": [
        "def calculate_cyk_score(raw_sentence):\n",
        "    sentence = raw_sentence.split(' ')\n",
        "    sentence_len = len(sentence)\n",
        "    score_holder = {i: {} for i in [(i, j) for i in range(sentence_len) for j in range(sentence_len) if i <= j]}\n",
        "\n",
        "    # Initialize score holder with lexical rules\n",
        "    for column in range(sentence_len):\n",
        "        for rule in rules.keys():\n",
        "            if rule[1] == sentence[column]:\n",
        "                score_holder[(column, column)][rule[0]] = (rule, (column,), rules[rule])\n",
        "\n",
        "    # Populate score_holder using CYK algorithm\n",
        "    for row in range(1, sentence_len):\n",
        "        for column in range(sentence_len - row):\n",
        "            for k in range(column, column + row):\n",
        "                left_children = score_holder[(column, k)].keys()\n",
        "                if not left_children:\n",
        "                    continue\n",
        "                right_children = score_holder[(k + 1, column + row)].keys()\n",
        "                if not right_children:\n",
        "                    continue\n",
        "                for left_child in left_children:\n",
        "                    for right_child in right_children:\n",
        "                        for parent in nonterminals:\n",
        "                            if (parent, left_child, right_child) in rules:\n",
        "                                current_score = (\n",
        "                                        score_holder[(column, k)][left_child][2] *\n",
        "                                        score_holder[(k + 1, column + row)][right_child][2] *\n",
        "                                        rules[(parent, left_child, right_child)]\n",
        "                                )\n",
        "                                if parent in score_holder[(column, column + row)]:\n",
        "                                    if score_holder[(column, column + row)][parent][2] < current_score:\n",
        "                                        score_holder[(column, column + row)][parent] = (\n",
        "                                            (parent, left_child, right_child),\n",
        "                                            (column, k, column + row),\n",
        "                                            current_score\n",
        "                                        )\n",
        "                                else:\n",
        "                                    score_holder[(column, column + row)][parent] = (\n",
        "                                        (parent, left_child, right_child),\n",
        "                                        (column, k, column + row),\n",
        "                                        current_score\n",
        "                                    )\n",
        "\n",
        "    return score_holder"
      ]
    },
    {
      "cell_type": "code",
      "execution_count": 3,
      "metadata": {
        "id": "gmsDpU4OwuWH"
      },
      "outputs": [],
      "source": [
        "def draw_tree(holder, span, nonterminal, layer=0):\n",
        "    rule, children_span, _ = holder[span][nonterminal]\n",
        "    if len(rule) != 3:\n",
        "        return '  ' * layer + '(' + rule[0] + '|' + rule[1] + ')\\n'\n",
        "    string = '  ' * layer + '(' + nonterminal + '\\n'\n",
        "    left_span = (children_span[0], children_span[1])\n",
        "    right_span = (children_span[1] + 1, children_span[2])\n",
        "    left_child, right_child = rule[1:]\n",
        "    string += draw_tree(holder, left_span, left_child, layer=layer + 1)\n",
        "    string += draw_tree(holder, right_span, right_child, layer=layer + 1)\n",
        "    return string"
      ]
    },
    {
      "cell_type": "code",
      "source": [
        "def check_sentence_in_grammar(raw_sentence):\n",
        "    try:\n",
        "        score_holder = calculate_cyk_score(raw_sentence)\n",
        "        return 'S' in score_holder[(0, len(raw_sentence.split()) - 1)]\n",
        "    except KeyError:\n",
        "        return False"
      ],
      "metadata": {
        "id": "GYJFC5WmxpMW"
      },
      "execution_count": 4,
      "outputs": []
    },
    {
      "cell_type": "code",
      "source": [
        "raw_sentence = 'astronomers saw stars with ears'\n",
        "print(f\"Raw sentence '{raw_sentence}' belongs to grammar: {check_sentence_in_grammar(raw_sentence)}\")\n",
        "\n",
        "raw_sentence = 'astronomers stars saw with ears'\n",
        "print(f\"Raw sentence '{raw_sentence}' belongs to grammar: {check_sentence_in_grammar(raw_sentence)}\")"
      ],
      "metadata": {
        "colab": {
          "base_uri": "https://localhost:8080/"
        },
        "id": "08hvp4FPyZVT",
        "outputId": "4cba7378-ca29-4886-bf69-49ad8658b8e5"
      },
      "execution_count": 5,
      "outputs": [
        {
          "output_type": "stream",
          "name": "stdout",
          "text": [
            "Raw sentence 'astronomers saw stars with ears' belongs to grammar: True\n",
            "Raw sentence 'astronomers stars saw with ears' belongs to grammar: False\n"
          ]
        }
      ]
    },
    {
      "cell_type": "code",
      "source": [
        "score_holder = calculate_cyk_score('astronomers saw stars with ears')\n",
        "parse_tree = draw_tree(score_holder, (0, len('astronomers saw stars with ears'.split()) - 1), 'S')\n",
        "print(parse_tree)"
      ],
      "metadata": {
        "colab": {
          "base_uri": "https://localhost:8080/"
        },
        "id": "iJlKip3sycgL",
        "outputId": "d9106147-75b0-4b54-d260-c128da19a8f2"
      },
      "execution_count": 6,
      "outputs": [
        {
          "output_type": "stream",
          "name": "stdout",
          "text": [
            "(S\n",
            "  (NP|astronomers)\n",
            "  (VP\n",
            "    (V|saw)\n",
            "    (NP\n",
            "      (NP|stars)\n",
            "      (PP\n",
            "        (P|with)\n",
            "        (NP|ears)\n",
            "\n"
          ]
        }
      ]
    }
  ],
  "metadata": {
    "kernelspec": {
      "display_name": "Python 3",
      "language": "python",
      "name": "python3"
    },
    "language_info": {
      "codemirror_mode": {
        "name": "ipython",
        "version": 3
      },
      "file_extension": ".py",
      "mimetype": "text/x-python",
      "name": "python",
      "nbconvert_exporter": "python",
      "pygments_lexer": "ipython3",
      "version": "3.6.6"
    },
    "colab": {
      "provenance": []
    }
  },
  "nbformat": 4,
  "nbformat_minor": 0
}