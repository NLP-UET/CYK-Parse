{
  "cells": [
    {
      "cell_type": "markdown",
      "metadata": {
        "id": "Tk1Q8v-sfR23"
      },
      "source": [
        "# CYK Algorithm\n"
      ]
    },
    {
      "cell_type": "code",
      "source": [
        "nonterminals = {'S', 'NP', 'VP', 'PP', 'P', 'V'}\n",
        "rules = {\n",
        "    ('S', 'NP', 'VP'): 1.0,\n",
        "    ('PP', 'P', 'NP'): 1.0,\n",
        "    ('VP', 'V', 'NP'): 0.7,\n",
        "    ('VP', 'VP', 'PP'): 0.3,\n",
        "    ('P', 'with'): 1.0,\n",
        "    ('V', 'saw'): 1.0,\n",
        "    ('NP', 'NP', 'PP'): 0.4,\n",
        "    ('NP', 'astronomers'): 0.1,\n",
        "    ('NP', 'ears'): 0.18,\n",
        "    ('NP', 'saw'): 0.04,\n",
        "    ('NP', 'stars'): 0.18,\n",
        "    ('NP', 'telescopes'): 0.1,\n",
        "}\n",
        "\n",
        "def draw_tree(holder, span, nonterminal, layer=0):\n",
        "    if nonterminal not in holder[span]:\n",
        "        return '  ' * layer + '(' + nonterminal + ')\\n'\n",
        "\n",
        "    rule, children_span, _ = holder[span][nonterminal]\n",
        "\n",
        "    if len(rule) != 3:\n",
        "        return '  ' * layer + '(' + rule[0] + '|' + rule[1] + ')\\n'\n",
        "\n",
        "    string = '  ' * layer + '(' + nonterminal + '\\n'\n",
        "\n",
        "    left_span = (children_span[0], children_span[1])\n",
        "    right_span = (children_span[1] + 1, children_span[2])\n",
        "\n",
        "    left_child, right_child = rule[1:]\n",
        "\n",
        "    string += draw_tree(holder, left_span, left_child, layer=layer + 1)\n",
        "    string += draw_tree(holder, right_span, right_child, layer=layer + 1)\n",
        "\n",
        "    return string\n",
        "\n",
        "def check_sentence_grammar(nonterminals, rules, sentence):\n",
        "    sentence = sentence.split()\n",
        "    sentence_len = len(sentence)\n",
        "    score_holder = {}\n",
        "\n",
        "    for i in range(sentence_len):\n",
        "        for j in range(i, sentence_len):\n",
        "            score_holder[(i, j)] = {}\n",
        "\n",
        "    for row in range(sentence_len):\n",
        "        for column in range(sentence_len - row):\n",
        "            if row == 0:\n",
        "                for rule in rules.keys():\n",
        "                    if rule[1] == sentence[column]:\n",
        "                        score_holder[(column, column)][rule[0]] = (rule, (column,), rules[rule])\n",
        "            else:\n",
        "                for k in range(column, column + row):\n",
        "                    left_children = score_holder[(column, k)].keys()\n",
        "                    if not left_children:\n",
        "                        continue\n",
        "                    right_children = score_holder[(k + 1, column + row)].keys()\n",
        "                    if not right_children:\n",
        "                        continue\n",
        "                    for left_child in left_children:\n",
        "                        for right_child in right_children:\n",
        "                            for parent in nonterminals:\n",
        "                                if (parent, left_child, right_child) in rules:\n",
        "                                    current_score = (score_holder[(column, k)][left_child][2] *\n",
        "                                                     score_holder[(k + 1, column + row)][right_child][2] *\n",
        "                                                     rules[(parent, left_child, right_child)])\n",
        "                                    if parent in score_holder[(column, column + row)]:\n",
        "                                        if score_holder[(column, column + row)][parent][2] < current_score:\n",
        "                                            score_holder[(column, column + row)][parent] = (\n",
        "                                            (parent, left_child, right_child), (column, k, column + row), current_score)\n",
        "                                    else:\n",
        "                                        score_holder[(column, column + row)][parent] = (\n",
        "                                        (parent, left_child, right_child), (column, k, column + row), current_score)\n",
        "    return 'S' in score_holder[(0, sentence_len - 1)]"
      ],
      "metadata": {
        "id": "aQtwlz8FmrUQ"
      },
      "execution_count": 33,
      "outputs": []
    },
    {
      "cell_type": "code",
      "source": [
        "raw_sentence = 'astronomers saw stars with ears'\n",
        "print(check_sentence_grammar(nonterminals, rules, raw_sentence))\n",
        "print(draw_tree(score_holder, (0, len(raw_sentence.split()) - 1), 'S', layer=0))"
      ],
      "metadata": {
        "colab": {
          "base_uri": "https://localhost:8080/"
        },
        "id": "bleaowHwnfdq",
        "outputId": "10b79b88-3074-4f86-a6db-562dcb39f7b7"
      },
      "execution_count": 36,
      "outputs": [
        {
          "output_type": "stream",
          "name": "stdout",
          "text": [
            "True\n",
            "(S\n",
            "  (NP|astronomers)\n",
            "  (VP\n",
            "    (V|saw)\n",
            "    (NP\n",
            "      (NP|stars)\n",
            "      (PP\n",
            "        (P|with)\n",
            "        (NP|ears)\n",
            "\n"
          ]
        }
      ]
    },
    {
      "cell_type": "code",
      "source": [],
      "metadata": {
        "id": "sVkdi4umnzAP"
      },
      "execution_count": null,
      "outputs": []
    }
  ],
  "metadata": {
    "kernelspec": {
      "display_name": "Python 3",
      "language": "python",
      "name": "python3"
    },
    "language_info": {
      "codemirror_mode": {
        "name": "ipython",
        "version": 3
      },
      "file_extension": ".py",
      "mimetype": "text/x-python",
      "name": "python",
      "nbconvert_exporter": "python",
      "pygments_lexer": "ipython3",
      "version": "3.6.6"
    },
    "colab": {
      "provenance": []
    }
  },
  "nbformat": 4,
  "nbformat_minor": 0
}